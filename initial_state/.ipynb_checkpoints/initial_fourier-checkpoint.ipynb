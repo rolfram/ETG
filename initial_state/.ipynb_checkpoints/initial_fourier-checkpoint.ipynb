{
 "cells": [
  {
   "cell_type": "code",
   "execution_count": null,
   "metadata": {},
   "outputs": [],
   "source": [
    "import numpy as np\n",
    "import math as mt\n",
    "import scipy.fftpack as sf\n",
    "import matplotlib.pyplot as plt\n",
    "%matplotlib inline"
   ]
  },
  {
   "cell_type": "code",
   "execution_count": null,
   "metadata": {},
   "outputs": [],
   "source": [
    "nx=256; ny=nx\n",
    "nt=5000; isav=25; dt=2e-2\n",
    "lx=2*np.pi/0.15; ly=lx\n",
    "dx=lx/nx; dy=ly/ny\n",
    "\n",
    "x = np.arange(nx)*dx\n",
    "y = np.arange(ny)*dy\n",
    "X,Y = np.meshgrid(x,y)"
   ]
  },
  {
   "cell_type": "code",
   "execution_count": null,
   "metadata": {},
   "outputs": [],
   "source": [
    "r1 = ((Y-22.5)/0.7)**2 + ((X-lx/2)/0.2)**2\n",
    "\n",
    "phif = np.fft.ifftshift(1*np.exp(-r1))\n",
    "phifhst =np.zeros((nt//isav,nx,ny))\n",
    "\n",
    "phif = np.fft.fftshift(phif)\n",
    "phif[:128,128:] = np.conj(phif[128:,128:])\n",
    "phif[128:,:128] = np.conj(phif[128:,128:])\n",
    "\n",
    "phif[128,128] = 0\n",
    "\n",
    "phifhst[0,:,:] = abs(phif)"
   ]
  },
  {
   "cell_type": "code",
   "execution_count": null,
   "metadata": {},
   "outputs": [],
   "source": [
    "cs = plt.contour(phifhst[0,:,:],cmap='jet') # PuOr\n",
    "plt.xlim(108,148)\n",
    "plt.ylim(108,148)\n",
    "plt.grid()\n",
    "plt.colorbar(cs) #, extend='both')\n",
    "plt.title('$\\phi$ (potential)')\n",
    "plt.show()"
   ]
  },
  {
   "cell_type": "code",
   "execution_count": null,
   "metadata": {},
   "outputs": [],
   "source": [
    "test = [1,2,3,4,5]\n",
    "print(test[:2])\n",
    "print(test[2:])"
   ]
  },
  {
   "cell_type": "code",
   "execution_count": null,
   "metadata": {},
   "outputs": [],
   "source": []
  }
 ],
 "metadata": {
  "kernelspec": {
   "display_name": "Python 3",
   "language": "python",
   "name": "python3"
  },
  "language_info": {
   "codemirror_mode": {
    "name": "ipython",
    "version": 3
   },
   "file_extension": ".py",
   "mimetype": "text/x-python",
   "name": "python",
   "nbconvert_exporter": "python",
   "pygments_lexer": "ipython3",
   "version": "3.6.5"
  }
 },
 "nbformat": 4,
 "nbformat_minor": 2
}
