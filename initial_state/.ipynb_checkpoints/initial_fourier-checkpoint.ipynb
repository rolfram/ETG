{
 "cells": [
  {
   "cell_type": "code",
   "execution_count": null,
   "metadata": {},
   "outputs": [],
   "source": [
    "import numpy as np\n",
    "import math as mt\n",
    "import scipy.fftpack as sf\n",
    "import matplotlib.pyplot as plt\n",
    "%matplotlib inline"
   ]
  },
  {
   "cell_type": "code",
   "execution_count": null,
   "metadata": {},
   "outputs": [],
   "source": [
    "nx=256; ny=nx\n",
    "nt=5000; isav=25; dt=2e-2\n",
    "lx=2*np.pi/0.15; ly=lx\n",
    "dx=lx/nx; dy=ly/ny\n",
    "\n",
    "x = np.arange(nx)*dx\n",
    "# print(x)\n",
    "y = np.arange(ny)*dy\n",
    "X,Y = np.meshgrid(x,y)\n",
    "\n",
    "kx =2*np.pi/lx*np.r_[np.arange(nx/2),np.arange(-nx/2,0)]\n",
    "ky =2*np.pi/ly*np.r_[np.arange(ny/2),np.arange(-ny/2,0)]\n",
    "\n",
    "kx2=kx**2; ky2=ky**2\n",
    "KX, KY =np.meshgrid(kx ,ky )\n",
    "KX2,KY2 =np.meshgrid(kx2,ky2)"
   ]
  },
  {
   "cell_type": "code",
   "execution_count": null,
   "metadata": {},
   "outputs": [],
   "source": [
    "r1 = ((Y-21.3)/0.12)**2 + ((X-lx/2)/0.09)**2\n",
    "\n",
    "phif = np.fft.ifftshift(1*np.exp(-r1))\n",
    "phi = np.fft.ifft2(phif)\n",
    "\n",
    "phihst =np.zeros((nt//isav,nx,ny))\n",
    "phifhst =np.zeros((nt//isav,nx,ny))\n",
    "\n",
    "phif[:128:,:128]= np.conj(phif[:128,:128])\n",
    "phif[0,0] = 0\n",
    "\n",
    "phif = np.fft.fftshift(phif)\n",
    "\n",
    "phifhst[0,:,:] = abs(phif)\n",
    "phihst[0,:,:] = phi"
   ]
  },
  {
   "cell_type": "code",
   "execution_count": null,
   "metadata": {},
   "outputs": [],
   "source": [
    "cs = plt.contour(phifhst[0,:,:],cmap='jet') # PuOr\n",
    "plt.xlim(113,143)\n",
    "plt.ylim(113,143)\n",
    "plt.grid()\n",
    "plt.colorbar(cs) #, extend='both')\n",
    "plt.title('$\\phi$ (potential)')\n",
    "plt.show()"
   ]
  },
  {
   "cell_type": "code",
   "execution_count": null,
   "metadata": {},
   "outputs": [],
   "source": [
    "sizetuple = (15,5)\n",
    "fig, ax = plt.subplots(ncols=2, figsize=sizetuple)\n",
    "\n",
    "ra = 0\n",
    "\n",
    "# can use jet color scheme for cmap as well..\n",
    "im1=ax[0].imshow(phihst[ra,:,:]            ,aspect='auto',origin='lower',cmap='RdYlBu_r');ax[0].axis('on');fig.colorbar(im1, ax=ax[0]);ax[0].set_title(r'$\\phi$')\n",
    "im2=ax[1].imshow(phifhst[ra,:,:]              ,aspect='auto',origin='lower',cmap='viridis');ax[1].axis('on');fig.colorbar(im2, ax=ax[1]);ax[1].set_title(r'$\\phi_k \\ $(Potiential in k-space)')\n",
    "ax[1].set_xlim(113,143)\n",
    "ax[1].set_ylim(113,143)\n",
    "\n",
    "plt.show()"
   ]
  },
  {
   "cell_type": "code",
   "execution_count": null,
   "metadata": {},
   "outputs": [],
   "source": [
    "kx =2*np.pi/lx*np.r_[np.arange(nx/2),np.arange(-nx/2,0)]\n",
    "ky =2*np.pi/ly*np.r_[np.arange(ny/2),np.arange(-ny/2,0)]\n",
    "\n",
    "kx2=kx**2; ky2=ky**2\n",
    "KX, KY =np.meshgrid(kx ,ky )\n",
    "KX2,KY2 =np.meshgrid(kx2,ky2)"
   ]
  },
  {
   "cell_type": "code",
   "execution_count": null,
   "metadata": {},
   "outputs": [],
   "source": [
    "plt.plot(KX,KY)"
   ]
  },
  {
   "cell_type": "code",
   "execution_count": null,
   "metadata": {},
   "outputs": [],
   "source": [
    "r1 = ((ky-4)/0.1)**2 + ((kx-0)/0.2)**2\n",
    "\n",
    "phif = np.fft.ifftshift(1*np.exp(-r1))\n",
    "phi = np.fft.ifft2(phif)\n",
    "\n",
    "phihst =np.zeros((nt//isav,nx,ny))\n",
    "phifhst =np.zeros((nt//isav,nx,ny))\n",
    "\n",
    "# phif[:128:,:128]= np.conj(phif[:128,:128])\n",
    "phif[0,0] = 0\n",
    "\n",
    "phif = np.fft.fftshift(phif)\n",
    "\n",
    "phifhst[0,:,:] = abs(phif)\n",
    "phihst[0,:,:] = phi"
   ]
  },
  {
   "cell_type": "code",
   "execution_count": null,
   "metadata": {},
   "outputs": [],
   "source": []
  }
 ],
 "metadata": {
  "kernelspec": {
   "display_name": "Python 3",
   "language": "python",
   "name": "python3"
  },
  "language_info": {
   "codemirror_mode": {
    "name": "ipython",
    "version": 3
   },
   "file_extension": ".py",
   "mimetype": "text/x-python",
   "name": "python",
   "nbconvert_exporter": "python",
   "pygments_lexer": "ipython3",
   "version": "3.7.2"
  }
 },
 "nbformat": 4,
 "nbformat_minor": 2
}
