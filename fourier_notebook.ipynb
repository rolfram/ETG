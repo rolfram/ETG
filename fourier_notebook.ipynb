{
 "cells": [
  {
   "cell_type": "markdown",
   "metadata": {},
   "source": [
    "<h1>Hasegawa-Mima Equation</h1>"
   ]
  },
  {
   "cell_type": "markdown",
   "metadata": {},
   "source": [
    "reference: Wakatani1984PoF, Hasegawa1987PRL, Numata2007PoP"
   ]
  },
  {
   "cell_type": "markdown",
   "metadata": {},
   "source": [
    "<h2>Basic Equations</h2>"
   ]
  },
  {
   "cell_type": "markdown",
   "metadata": {},
   "source": [
    "$\\partial_t \\zeta + \\left[\\phi,\\zeta \\right] = \\alpha(\\phi-n)-\\mu \\nabla^4 \\zeta$ (1)"
   ]
  },
  {
   "cell_type": "markdown",
   "metadata": {},
   "source": [
    "$\\partial_t n + \\left[\\phi,n\\right] = \\alpha (\\phi-n) - \\kappa \\partial_y \\phi - \\mu \\nabla^4 n$ (2)"
   ]
  },
  {
   "cell_type": "markdown",
   "metadata": {},
   "source": [
    "Where, $\\zeta \\equiv \\nabla^2 \\phi$ and $\\left[a,b\\right] \\equiv \\partial_x a \\partial_y b - \\partial_y a \\partial_x b$"
   ]
  },
  {
   "cell_type": "markdown",
   "metadata": {},
   "source": [
    "To derive Hasegawa-Mima from H-W, let $\\mu = 0$ and take $\\alpha = \\infty$, then $\\phi = n$, which gives:"
   ]
  },
  {
   "cell_type": "markdown",
   "metadata": {},
   "source": [
    "$\\partial_t \\zeta + \\left[\\phi,\\zeta \\right] = 0$ (3)"
   ]
  },
  {
   "cell_type": "markdown",
   "metadata": {},
   "source": [
    "$\\partial_t \\phi + \\kappa \\partial_y \\phi = 0$ (4)"
   ]
  },
  {
   "cell_type": "markdown",
   "metadata": {},
   "source": [
    "Combining equations (3) and (4) results in:"
   ]
  },
  {
   "cell_type": "markdown",
   "metadata": {},
   "source": [
    "$\\partial_t (\\zeta + \\phi) = -[\\phi,\\zeta]-\\kappa \\partial_y \\phi$ (5)"
   ]
  },
  {
   "cell_type": "markdown",
   "metadata": {},
   "source": [
    "Using a pseudo-spectral approach, we can simplify (5) and use 4th-order Runge-Kutta to solve for $\\phi$."
   ]
  },
  {
   "cell_type": "markdown",
   "metadata": {},
   "source": [
    "Let's define $\\phi_k = \\Sigma_k \\phi_0 e^{i k \\vec{x}}$, where $k^2 = k_x^2 + k_y^2$. Therefore $\\zeta_k = -k^2 \\phi_k$. Equation (5) can then be rewritten as, "
   ]
  },
  {
   "cell_type": "markdown",
   "metadata": {},
   "source": [
    "$\\partial_t \\phi_k = \\frac{1}{1-k^2}\\left(-[\\phi,\\zeta]-\\kappa \\partial_y \\phi \\right)_k$ (6)"
   ]
  },
  {
   "cell_type": "markdown",
   "metadata": {},
   "source": [
    "Equation (6) is used to solve for $\\phi_k$. Using inverse fourier transform we can then get $\\phi_k$ in terms of x and y. For this particular case, $\\phi$ was initialized with streamers plus a small gaussian pertubation and $\\kappa = 0.1$. The following is the initial condition for $\\phi$:"
   ]
  },
  {
   "cell_type": "markdown",
   "metadata": {},
   "source": [
    "$\\phi(0,x,y) = 0.4 \\left[e^{-\\left[(x-lx/2)^2+(y-ly/2)^2\\right]/64} \\cos{k_{y0} y} + \\cos{0.15 (2) y} \\right]$"
   ]
  },
  {
   "cell_type": "markdown",
   "metadata": {},
   "source": [
    "Where $l_x= l_y= 41.89$ and $k_{y0} = \\frac{2 \\pi}{l_y} = 0.15$ (Note: $n_x = 256 = \\frac{l_x}{dx}$, where $dx = \\frac{2 \\pi}{0.15 * 256}$)."
   ]
  },
  {
   "cell_type": "markdown",
   "metadata": {},
   "source": [
    "Note: $k_x = 0.15 n$ and $k_y = 0.15 m$ where n and m are integers. "
   ]
  },
  {
   "cell_type": "markdown",
   "metadata": {},
   "source": [
    "<h2>Python Packages</h2>"
   ]
  },
  {
   "cell_type": "code",
   "execution_count": null,
   "metadata": {},
   "outputs": [],
   "source": [
    "%config InlineBackend.figure_format = 'retina'\n",
    "%matplotlib inline\n",
    "import numpy as np\n",
    "import matplotlib.pyplot as plt\n",
    "import scipy.fftpack as sf\n",
    "from IPython import display\n",
    "import math as mt\n",
    "import matplotlib.animation as animation\n",
    "plt.rcParams['font.size'] = 14\n",
    "plt.rcParams['axes.linewidth'] = 1.5\n",
    "plt.rcParams['animation.embed_limit']=60\n",
    "plt.rcParams['animation.html'] = 'jshtml'"
   ]
  },
  {
   "cell_type": "markdown",
   "metadata": {},
   "source": [
    "<h2>Load Data</h2>"
   ]
  },
  {
   "cell_type": "code",
   "execution_count": null,
   "metadata": {},
   "outputs": [],
   "source": [
    "data = np.load('./fourier_gaussian/hm_k-1e-1_ic_1_fourier_test_4.npz')# './kY_5.npz')\n",
    "\n",
    "zetahst = data['zetahst']\n",
    "phifhst = data['phifhst']\n",
    "phihst = data['phihst']"
   ]
  },
  {
   "cell_type": "markdown",
   "metadata": {},
   "source": [
    "<h2>Animation</h2>"
   ]
  },
  {
   "cell_type": "code",
   "execution_count": null,
   "metadata": {},
   "outputs": [],
   "source": [
    "def update_anim(it):\n",
    "    \n",
    "    fig.clf()\n",
    "\n",
    "    ax1 = fig.add_subplot(221)\n",
    "    ax2 = fig.add_subplot(222)\n",
    "    ax3 = fig.add_subplot(223)\n",
    "    ax4 = fig.add_subplot(224)    \n",
    "    \n",
    "    for ax in (ax1, ax2, ax3, ax4):\n",
    "        ax.clear()   \n",
    "\n",
    "    im1=ax1.imshow(zetahst[it,:,:]            ,aspect='auto',origin='lower',cmap='RdYlBu_r');ax1.axis('off');fig.colorbar(im1, ax=ax1);ax1.set_title(r'$\\zeta\\ (vorticity)$')\n",
    "    im2=ax2.imshow(phifhst[it,:,:]               ,aspect='auto',origin='lower',extent=[-128,128,-128,128],cmap='viridis');ax2.axis('on');fig.colorbar(im2, ax=ax2);ax2.set_title(r'$\\phi_k \\ $(Potiential in k-space)')\n",
    "    ax2.set_xlim(-15,15)\n",
    "    ax2.set_ylim(-15,15)\n",
    "    im3=ax3.imshow(phihst[it,:,:]             ,aspect='auto',origin='lower',cmap='gnuplot');ax3.axis('off');fig.colorbar(im3, ax=ax3);ax3.set_title(r'$\\phi\\ (potential)$')\n",
    "    im4=ax4.imshow(np.log(phifhst[it,:,:]),aspect='auto',origin='lower',cmap='jet');ax4.axis('off');fig.colorbar(im4, ax=ax4);ax4.set_title(r'Log($\\phi_k$)')\n",
    "    ax4.set_xlim(113,143)\n",
    "    ax4.set_ylim(113,143)"
   ]
  },
  {
   "cell_type": "code",
   "execution_count": null,
   "metadata": {},
   "outputs": [],
   "source": [
    "fig=plt.figure(figsize=(10,8))\n",
    "nt=5000\n",
    "isav=25\n",
    "anim=animation.FuncAnimation(fig,update_anim,frames=nt//isav)    \n",
    "plt.close()\n",
    "anim"
   ]
  },
  {
   "cell_type": "code",
   "execution_count": null,
   "metadata": {},
   "outputs": [],
   "source": [
    "sizetuple = (10,8)\n",
    "fig, ax = plt.subplots(2, 2, figsize=sizetuple)\n",
    "\n",
    "ra = 0\n",
    "\n",
    "# can use jet color scheme for cmap as well..\n",
    "im1=ax[0,0].imshow(zetahst[ra,:,:]            ,aspect='auto',origin='lower',cmap='RdYlBu_r');ax[0,0].axis('off');fig.colorbar(im1, ax=ax[0,0]);ax[0,0].set_title(r'$\\zeta\\ (vorticity)$')\n",
    "im2=ax[0,1].imshow(phifhst[ra,:,:]               ,aspect='auto',origin='lower',extent=[-128,128,-128,128],cmap='viridis');ax[0,1].axis('on');fig.colorbar(im2, ax=ax[0,1]);ax[0,1].set_title(r'$\\phi_k \\ $(Potiential in k-space)')\n",
    "ax[0,1].set_xlim(-15,15)\n",
    "ax[0,1].set_ylim(-15,15)\n",
    "im3=ax[1,0].imshow(phihst[ra,:,:]             ,aspect='auto',origin='lower',cmap='gnuplot');ax[1,0].axis('on');ax[1,0].set_xlabel('x');fig.colorbar(im3, ax=ax[1,0]);ax[1,0].set_title(r'$\\phi\\ (potential)$')\n",
    "im4=ax[1,1].imshow(np.log(phifhst[ra,:,:]),aspect='auto',origin='lower',cmap='jet');ax[1,1].axis('off');fig.colorbar(im4, ax=ax[1,1]);ax[1,1].set_title(r'Log($\\phi_k$)')\n",
    "ax[1,1].set_xlim(113,143)\n",
    "ax[1,1].set_ylim(113,143)\n",
    "plt.show()"
   ]
  },
  {
   "cell_type": "code",
   "execution_count": null,
   "metadata": {},
   "outputs": [],
   "source": [
    "sizetuple = (10,8)\n",
    "fig, ax = plt.subplots(2, 2, figsize=sizetuple)\n",
    "\n",
    "ra = 160\n",
    "\n",
    "# can use jet color scheme for cmap as well..\n",
    "im1=ax[0,0].imshow(zetahst[ra,:,:]            ,aspect='auto',origin='lower',cmap='RdYlBu_r');ax[0,0].axis('off');fig.colorbar(im1, ax=ax[0,0]);ax[0,0].set_title(r'$\\zeta\\ (vorticity)$')\n",
    "im2=ax[0,1].imshow(phifhst[ra,:,:]               ,aspect='auto',origin='lower',extent=[-128,128,-128,128],cmap='viridis');ax[0,1].axis('on');fig.colorbar(im2, ax=ax[0,1]);ax[0,1].set_title(r'$\\phi_k \\ $(Potiential in k-space)')\n",
    "ax[0,1].set_xlim(-15,15)\n",
    "ax[0,1].set_ylim(-15,15)\n",
    "im3=ax[1,0].imshow(phihst[ra,:,:]             ,aspect='auto',origin='lower',cmap='gnuplot');ax[1,0].axis('on');ax[1,0].set_xlabel('x');fig.colorbar(im3, ax=ax[1,0]);ax[1,0].set_title(r'$\\phi\\ (potential)$')\n",
    "im4=ax[1,1].imshow(np.log(phifhst[ra,:,:]),aspect='auto',origin='lower',cmap='jet');ax[1,1].axis('off');fig.colorbar(im4, ax=ax[1,1]);ax[1,1].set_title(r'Log($\\phi_k$)')\n",
    "ax[1,1].set_xlim(113,143)\n",
    "ax[1,1].set_ylim(113,143)\n",
    "plt.show()"
   ]
  },
  {
   "cell_type": "code",
   "execution_count": null,
   "metadata": {},
   "outputs": [],
   "source": [
    "cs = plt.contour(phihst[ra,:,:],cmap='jet') # PuOr\n",
    "plt.colorbar(cs) #, extend='both')\n",
    "plt.title('$\\phi$ (potential)')\n",
    "plt.show()"
   ]
  },
  {
   "cell_type": "code",
   "execution_count": null,
   "metadata": {
    "scrolled": true
   },
   "outputs": [],
   "source": [
    "from mpl_toolkits.mplot3d import Axes3D\n",
    "\n",
    "xv = np.arange(-128,128)*0.15\n",
    "yv = np.arange(-128,128)*0.15\n",
    "x, y = np.meshgrid(xv, yv)\n",
    "    \n",
    "fig = plt.figure()\n",
    "ax = Axes3D(fig)\n",
    "surf = ax.plot_surface(x, y, np.log(phifhst[160,:,:]*256), cmap='coolwarm')"
   ]
  },
  {
   "cell_type": "code",
   "execution_count": null,
   "metadata": {},
   "outputs": [],
   "source": [
    "from mpl_toolkits.mplot3d import Axes3D\n",
    "\n",
    "xv = np.arange(-128,128)*0.15\n",
    "yv = np.arange(-128,128)*0.15\n",
    "x, y = np.meshgrid(xv, yv)\n",
    "    \n",
    "fig = plt.figure()\n",
    "ax = Axes3D(fig)\n",
    "surf = ax.plot_surface(x, y, phifhst[160,:,:], cmap='viridis')"
   ]
  },
  {
   "cell_type": "code",
   "execution_count": null,
   "metadata": {},
   "outputs": [],
   "source": [
    "### test\n",
    "nx = 10 \n",
    "ny = 10\n",
    "kx =np.r_[np.arange(nx/2),np.arange(-nx/2,0)]\n",
    "print(kx)\n",
    "ky =np.r_[np.arange(ny/2),np.arange(-ny/2,0)]\n",
    "\n",
    "kx = np.fft.fftshift(kx)\n",
    "print(kx)\n",
    "ky = np.fft.fftshift(ky)\n",
    "\n",
    "KX, KY =np.meshgrid(kx ,ky )\n",
    "\n",
    "plt.plot(KX, marker='.', color='k', linestyle='none')\n",
    "plt.plot(KY, marker='.', color='r', linestyle='none')"
   ]
  },
  {
   "cell_type": "code",
   "execution_count": null,
   "metadata": {},
   "outputs": [],
   "source": [
    "nx = 10 \n",
    "ny = 10\n",
    "x  =np.arange(nx)\n",
    "y  =np.arange(ny)\n",
    "X,Y=np.meshgrid(x,y)\n",
    "\n",
    "plt.plot(X, marker='.', color='k', linestyle='none')\n",
    "plt.plot(Y, marker='*', color='r', linestyle='none')"
   ]
  },
  {
   "cell_type": "code",
   "execution_count": null,
   "metadata": {},
   "outputs": [],
   "source": [
    "nx=256\n",
    "ny=256\n",
    "kx =0.15*np.r_[np.arange(nx/2),np.arange(-nx/2,0)]\n",
    "ky =0.15*np.r_[np.arange(ny/2),np.arange(-ny/2,0)]\n",
    "print(np.r_[np.arange(nx/2),np.arange(-nx/2,0)])\n",
    "\n",
    "ky = np.fft.fftshift(ky)\n",
    "kx = np.fft.fftshift(kx)\n",
    "print(kx)\n",
    "print(ky)"
   ]
  },
  {
   "cell_type": "code",
   "execution_count": null,
   "metadata": {},
   "outputs": [],
   "source": []
  }
 ],
 "metadata": {
  "kernelspec": {
   "display_name": "Python 3",
   "language": "python",
   "name": "python3"
  },
  "language_info": {
   "codemirror_mode": {
    "name": "ipython",
    "version": 3
   },
   "file_extension": ".py",
   "mimetype": "text/x-python",
   "name": "python",
   "nbconvert_exporter": "python",
   "pygments_lexer": "ipython3",
   "version": "3.7.2"
  }
 },
 "nbformat": 4,
 "nbformat_minor": 2
}
